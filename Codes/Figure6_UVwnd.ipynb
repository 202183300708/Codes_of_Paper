{
 "cells": [
  {
   "cell_type": "code",
   "execution_count": 9,
   "metadata": {},
   "outputs": [],
   "source": [
    "import numpy as np\n",
    "import matplotlib.pyplot as plt\n",
    "import cartopy.crs as ccrs\n",
    "import cartopy.feature as cfeature\n",
    "from cartopy.io.shapereader import Reader\n",
    "from datetime import datetime, timedelta\n",
    "import cartopy.feature as cfeat\n",
    "import xarray as xr\n",
    "from datetime import datetime\n",
    "SHP='../Data/TPBoundary_new/TPBoundary_new.shp'"
   ]
  },
  {
   "cell_type": "code",
   "execution_count": 23,
   "metadata": {},
   "outputs": [],
   "source": [
    "# 将字符串转换为日期对象，再转换成制定格式\n",
    "select_time=\"2020-08-27\"\n",
    "select_time2 = datetime.strptime(select_time, \"%Y-%m-%d\").strftime(\"%Y%m%d\")\n",
    "\n",
    "\n",
    "uwnd_path=\"../Data/uwnd.10m.gauss.2020.nc\"\n",
    "vwnd_path=\"../Data/vwnd.10m.gauss.2020.nc\"\n",
    "prate_path=\"../Data/Pre2020/tpmfd_prcp_d_\"+select_time2+\".nc\"\n",
    "uwnd_data=xr.open_dataset(uwnd_path)\n",
    "vwnd_data=xr.open_dataset(vwnd_path)\n",
    "prate_data=xr.open_dataset(prate_path)\n",
    "\n",
    "#查看prcp变量维度，和第一时次的数据\n",
    "# print(prate_data.dims)\n",
    "# print(prate_data)\n",
    "prcp=prate_data[\"prcp\"]\n",
    "prcp_lon=prate_data[\"longitude\"]\n",
    "prcp_lat=prate_data[\"latitude\"]\n",
    "\n",
    "uwnd=uwnd_data[\"uwnd\"]\n",
    "vwnd=vwnd_data[\"vwnd\"]\n",
    "\n",
    "#选特定的时间的变量\n",
    "select_uwnd=uwnd.sel(time=select_time)\n",
    "select_vwnd=vwnd.sel(time=select_time)\n",
    "# print(type(select_uwnd))                        ##<class 'xarray.core.dataarray.DataArray'>\n",
    "# print(type(select_uwnd.values))                 ##<class 'numpy.ndarray'>\n",
    "\n",
    "#找到属于风的经纬度\n",
    "wnd_lon=uwnd_data[\"lon\"]\n",
    "wnd_lat=uwnd_data[\"lat\"]"
   ]
  },
  {
   "cell_type": "code",
   "execution_count": 24,
   "metadata": {},
   "outputs": [],
   "source": [
    "from mpl_toolkits.basemap import Basemap\n",
    "import matplotlib.pyplot as plt\n",
    "import numpy as np\n",
    "plt.rcParams['font.sans-serif'] = ['Times New Roman']\n",
    "plt.rcParams['axes.unicode_minus'] = False\n",
    "\n",
    "plt.figure(figsize=(6, 6))\n",
    "#resolution='i',\n",
    "\n",
    "mymap = Basemap( projection='cyl', llcrnrlon=67, urcrnrlon=105, llcrnrlat=26, urcrnrlat=41)\n",
    "\n",
    "\n",
    "# mymap.drawmeridians(np.arange(67, 105, 15), labels=[False, False, False, True])  # Labels on right side\n",
    "# mymap.drawparallels(np.arange(26, 41, 2), labels=[True, True, False, False])  # Labels on top\n",
    "\n",
    "mymap.drawmeridians(np.arange(68, 106, 6), labels=[False, False, False,True])  # Labels on right side\n",
    "mymap.drawparallels(np.arange(26, 41, 2), labels=[True,  False])  # Labels on top\n",
    "\n",
    "mymap.etopo()\n",
    "mymap.bluemarble()\n",
    "mymap.shadedrelief()\n",
    "mymap.drawcoastlines()\n",
    "#画风场\n",
    "axqui=mymap.quiver(wnd_lon,wnd_lat,select_uwnd.values,select_vwnd.values,pivot='mid',\\\n",
    "                    width=0.003,scale=110,color='k',angles='xy',zorder=1)\n",
    "ax = plt.gca()   \n",
    "ax.set_title(f\"{select_time}\"+\" Wind Field\", loc='left') \n",
    "ax.quiverkey(axqui,0.85, 1.05,5, '5 m/s', labelpos='E') \n",
    "plt.text(90, 29.9, 'NAMCO', fontsize=12, ha='center', va='center', color='r')\n",
    "plt.scatter(91,31,marker='^',color='red')\n",
    "plt.savefig(f\"../../Figures/{select_time}地形风场.png\", dpi=600, bbox_inches='tight')\n",
    "plt.show()"
   ]
  }
 ],
 "metadata": {
  "kernelspec": {
   "display_name": "py311",
   "language": "python",
   "name": "python3"
  },
  "language_info": {
   "codemirror_mode": {
    "name": "ipython",
    "version": 3
   },
   "file_extension": ".py",
   "mimetype": "text/x-python",
   "name": "python",
   "nbconvert_exporter": "python",
   "pygments_lexer": "ipython3",
   "version": "3.11.8"
  }
 },
 "nbformat": 4,
 "nbformat_minor": 2
}
